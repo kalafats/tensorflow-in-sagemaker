{
 "cells": [
  {
   "cell_type": "markdown",
   "metadata": {},
   "source": [
    "# Monitor and Analyze Training Jobs Using Metrics\n",
    "An Amazon SageMaker training job is an iterative process that teaches a model to make predictions by presenting examples from a training dataset.  \n",
    "Typically, a training algorithm computes several metrics, such as training error and prediction accuracy. These metrics help diagnose whether the model is learning well and will generalize well for making predictions on unseen data.  \n",
    "\n",
    "The training algorithm writes the values of these metrics to logs, which Amazon SageMaker monitors and sends to Amazon CloudWatch in real time.\n",
    "\n",
    "If you want Amazon SageMaker to parse logs from a custom algorithm and send metrics that the algorithm emits to CloudWatch, you have to specify the metrics that you want Amazon SageMaker to send to CloudWatch when you configure the training job.  \n",
    "You specify the name of the metrics that you want to send and the regular expressions that Amazon SageMaker uses to parse the logs that your algorithm emits to find those metrics."
   ]
  },
  {
   "cell_type": "markdown",
   "metadata": {},
   "source": [
    "## Defining Training Metrics (Amazon SageMaker Python SDK)\n",
    "Define the metrics that you want to send to CloudWatch by specifying a list of metric names and regular expressions as the metric_definitions argument when you initialize an Estimator object. For example, if you want to monitor both the train:error and validation:error metrics in CloudWatch, your Estimator initialization would look like the following:\n",
    "```python \n",
    "estimator = Estimator(image_name=ImageName,\n",
    "            role='SageMakerRole', train_instance_count=1,\n",
    "            train_instance_type='ml.c4.xlarge',            \n",
    "            k=10,\n",
    "            metric_definitions=[\n",
    "                   {'Name': 'train:error', 'Regex': 'Train_error=(.*?);'},\n",
    "                   {'Name': 'validation:error', 'Regex': 'Valid_error=(.*?);'}\n",
    "            ])\n",
    "```"
   ]
  },
  {
   "cell_type": "markdown",
   "metadata": {},
   "source": [
    "## Monitoring the cifar10 training\n",
    "Find your previous (cifar10_keras_sm) training job in the SageMaker console.\n",
    "Open the job details and look at the job cloudwatch logs.  \n",
    "Configure the metrics regex that fits the logs. use only regex tools to check your expressions, use () to catch each matric"
   ]
  },
  {
   "cell_type": "code",
   "execution_count": null,
   "metadata": {},
   "outputs": [],
   "source": [
    "metric_definitions = [\n",
    "    {'Name': 'train:loss', 'Regex': ''},\n",
    "    {'Name': 'train:accuracy', 'Regex': ''},\n",
    "    {'Name': 'validation:accuracy', 'Regex': ''},\n",
    "    {'Name': 'validation:loss', 'Regex': ''},\n",
    "]"
   ]
  },
  {
   "cell_type": "markdown",
   "metadata": {},
   "source": [
    "Run the previous job, this time. add the ```metric_definitions=metric_definitions``` argument.  \n",
    "Run the job for 10 epochs"
   ]
  },
  {
   "cell_type": "code",
   "execution_count": null,
   "metadata": {},
   "outputs": [],
   "source": [
    "import os\n",
    "import sagemaker\n",
    "from sagemaker import get_execution_role\n",
    "\n",
    "sagemaker_session = sagemaker.Session()\n",
    "\n",
    "role = get_execution_role()"
   ]
  },
  {
   "cell_type": "code",
   "execution_count": null,
   "metadata": {},
   "outputs": [],
   "source": [
    "from sagemaker.tensorflow import TensorFlow\n",
    "estimator = ..."
   ]
  },
  {
   "cell_type": "code",
   "execution_count": null,
   "metadata": {},
   "outputs": [],
   "source": [
    "estimator.fit()"
   ]
  },
  {
   "cell_type": "markdown",
   "metadata": {},
   "source": [
    "### View the job training metrics\n",
    "SageMaker used the regular expression configured above, to send the job metrics to CloudWatch metrics.\n",
    "You can now view the job metrics directly from the SageMaker console.  \n",
    "\n",
    "login to the [SageMaker console](https://console.aws.amazon.com/sagemaker/home) choose the latest training job, scroll down to the monitor section.  \n",
    "Using CloudWatch metrics, you can change the period and configure the statistics\n",
    "\n",
    "Find the metrics using the following cell:"
   ]
  },
  {
   "cell_type": "code",
   "execution_count": null,
   "metadata": {},
   "outputs": [],
   "source": [
    "from IPython.core.display import Markdown\n",
    "\n",
    "link = 'https://console.aws.amazon.com/cloudwatch/home?region='+sagemaker_session.boto_region_name+'#metricsV2:query=%7B/aws/sagemaker/TrainingJobs,TrainingJobName%7D%20'+estimator.latest_training_job.job_name\n",
    "display(Markdown('CloudWatch metrics: [link]('+link+')'))\n",
    "display(Markdown('After you choose a metric, change the period to 1 Minute (Graphed Metrics -> Period)'))"
   ]
  },
  {
   "cell_type": "markdown",
   "metadata": {},
   "source": [
    "## Monitor with TensorBoard\n",
    "TensorBoard provides the visualization and tooling needed for machine learning experimentation:\n",
    "* Tracking and visualizing metrics such as loss and accuracy\n",
    "* Visualizing the model graph (ops and layers)\n",
    "* Viewing histograms of weights, biases, or other tensors as they change over time\n",
    "* Projecting embeddings to a lower dimensional space\n",
    "* Displaying images, text, and audio data\n",
    "* And much more\n",
    "\n",
    "In the next section we'll update the script to save TensorBoard logs.  \n",
    "We'll be able to use TensorBoard for monitoring our jobs in real time.  \n",
    "\n",
    "Update your cifar10-keras-sm.py script to send logs to TensorBoard.\n",
    "You can use the `from keras.callbacks import TensorBoard` import.\n",
    "\n",
    "Keras will send TensorBoard logs in each batch. sending the logs to S3 will slow down the trainig job, change the TensorBoard callback to send the logs only at the end of an epoch.\n",
    "\n",
    "Add the TensorBoard callback to your script (add this line after the ModelCheckpoint callback)\n",
    "```python\n",
    "callbacks.append(TensorBoard(log_dir=args.model_dir,update_freq='epoch'))\n",
    "```"
   ]
  },
  {
   "cell_type": "markdown",
   "metadata": {},
   "source": [
    "### Run a training job with TensorBoard support"
   ]
  },
  {
   "cell_type": "code",
   "execution_count": null,
   "metadata": {},
   "outputs": [],
   "source": [
    "estimator = ..."
   ]
  },
  {
   "cell_type": "code",
   "execution_count": null,
   "metadata": {},
   "outputs": [],
   "source": [
    "estimator.fit({},wait=False) # Use wait=False to run async jobs"
   ]
  },
  {
   "cell_type": "markdown",
   "metadata": {},
   "source": [
    "### Install Tensorboard on your local machine\n",
    "Install [TensorBoard](https://github.com/tensorflow/tensorboard) locally using `pip install tensorboard`.  \n",
    "To access an S3 log directory, configure the TensorBoard default region. You can do this by configuring an environment variable named AWS_REGION, and setting the value of the environment variable to the AWS region your training jobs run in.  \n",
    "For example, `AWS_REGION='us-east-1' tensorboard --logdir model_dir`  \n",
    "\n",
    "**You can get your TensorBoard command from the next cell.**\n",
    "\n",
    "You'll need and AccessKey + SecretKey with access to model_dir for this Event, get those from https://dashboard.eventengine.run/dashboard"
   ]
  },
  {
   "cell_type": "code",
   "execution_count": null,
   "metadata": {},
   "outputs": [],
   "source": [
    "from IPython.core.display import Markdown\n",
    "\n",
    "link = 'AWS_REGION=\\''+sagemaker_session.boto_region_name+'\\' tensorboard --logdir ' + estimator.model_dir\n",
    "display(Markdown('TensorBoard command: '+link))"
   ]
  },
  {
   "cell_type": "markdown",
   "metadata": {},
   "source": [
    "You can access TensorBoard locally at http://localhost:6006"
   ]
  },
  {
   "cell_type": "markdown",
   "metadata": {},
   "source": [
    "**Good job!**   \n",
    "You can now monitor your job using both CloudWatch metrics and TensorBoard.  \n",
    "Before continuing to the next notebook, take a look at the [TensorBoard callback configuration](https://keras.io/callbacks/#tensorboard) for other TensorBoard configurations."
   ]
  }
 ],
 "metadata": {
  "kernelspec": {
   "display_name": "conda_tensorflow_p36",
   "language": "python",
   "name": "conda_tensorflow_p36"
  },
  "language_info": {
   "codemirror_mode": {
    "name": "ipython",
    "version": 3
   },
   "file_extension": ".py",
   "mimetype": "text/x-python",
   "name": "python",
   "nbconvert_exporter": "python",
   "pygments_lexer": "ipython3",
   "version": "3.6.5"
  }
 },
 "nbformat": 4,
 "nbformat_minor": 2
}
