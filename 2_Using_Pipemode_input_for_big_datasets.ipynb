{
 "cells": [
  {
   "cell_type": "markdown",
   "metadata": {},
   "source": [
    "# Training with Pipe Mode using PipeModeDataset\n",
    "Amazon SageMaker allows users to create training jobs using Pipe input mode. With Pipe input mode, your dataset is streamed directly to your training instances instead of being downloaded first. This means that your training jobs start sooner, finish quicker, and need less disk space.\n",
    "\n",
    "SageMaker TensorFlow provides an implementation of `tf.data.Dataset` that makes it easy to take advantage of Pipe input mode in SageMaker. You can replace your `tf.data.Dataset` with a `sagemaker_tensorflow.PipeModeDataset` to read TFRecords as they are streamed to your training instances.\n",
    "\n",
    "In your entry_point script, you can use `PipeModeDataset` like a `Dataset`. In this example, we create a `PipeModeDataset` to read TFRecords from the ‘training’ channel:\n",
    "\n",
    "```python\n",
    "from sagemaker_tensorflow import PipeModeDataset\n",
    "\n",
    "features = {\n",
    "    'data': tf.FixedLenFeature([], tf.string),\n",
    "    'labels': tf.FixedLenFeature([], tf.int64),\n",
    "}\n",
    "\n",
    "def parse(record):\n",
    "    parsed = tf.parse_single_example(record, features)\n",
    "    return ({\n",
    "        'data': tf.decode_raw(parsed['data'], tf.float64)\n",
    "    }, parsed['labels'])\n",
    "\n",
    "def train_input_fn(training_dir, hyperparameters):\n",
    "    ds = PipeModeDataset(channel='training', record_format='TFRecord')\n",
    "    ds = ds.repeat(20)\n",
    "    ds = ds.prefetch(10)\n",
    "    ds = ds.map(parse, num_parallel_calls=10)\n",
    "    ds = ds.batch(64)\n",
    "    return ds\n",
    "```\n",
    "\n",
    "To run training job with Pipe input mode, pass in input_mode='Pipe' to your TensorFlow Estimator:\n",
    "\n",
    "```python\n",
    "from sagemaker.tensorflow import TensorFlow\n",
    "\n",
    "tf_estimator = TensorFlow(entry_point='tf-train-with-pipemodedataset.py', role='SageMakerRole',\n",
    "                          train_instance_count=1, train_instance_type='ml.c5.2xlarge',\n",
    "                          framework_version='1.12.0', input_mode='Pipe')\n",
    "\n",
    "tf_estimator.fit('s3://bucket/path/to/training/data')\n",
    "```"
   ]
  },
  {
   "cell_type": "markdown",
   "metadata": {},
   "source": [
    "## Create a training script that support pipemode datasets\n",
    "Create a copy of the script (training_script/cifar10_keras_sm.py) and save it as training_script/cifar10_keras_pipe.py.\n",
    "\n",
    "In cifar10_keras_pipe.py, import the PIpeModeDataset using:\n",
    "```python\n",
    "from sagemaker_tensorflow import PipeModeDataset\n",
    "```\n",
    "update \n",
    "```python\n",
    "def _input(epochs, batch_size, channel, channel_name):\n",
    "```\n",
    "to create the dataset variable using\n",
    "```python\n",
    "dataset = PipeModeDataset(channel=channel_name, record_format='TFRecord')\n",
    "```\n",
    "\n",
    "For info see the SageMaker-python-sdk [documentation](https://sagemaker.readthedocs.io/en/stable/using_tf.html#training-with-pipe-mode-using-pipemodedataset)"
   ]
  },
  {
   "cell_type": "markdown",
   "metadata": {},
   "source": [
    "Run the previous job, this time use the new script (cifar10_keras_pipe.py)\n",
    "Run the job for 10 epochs and configure it with `input_mode='Pipe'`"
   ]
  },
  {
   "cell_type": "code",
   "execution_count": null,
   "metadata": {},
   "outputs": [],
   "source": [
    "import os\n",
    "import sagemaker\n",
    "from sagemaker import get_execution_role\n",
    "\n",
    "sagemaker_session = sagemaker.Session()\n",
    "\n",
    "role = get_execution_role()"
   ]
  },
  {
   "cell_type": "code",
   "execution_count": null,
   "metadata": {},
   "outputs": [],
   "source": [
    "from sagemaker.tensorflow import TensorFlow\n",
    "# You should add the metric_definitions arguments to all of your jobs\n",
    "# Change base_job_name to 'cifar10-pipe' for console visibility\n",
    "estimator = ... "
   ]
  },
  {
   "cell_type": "code",
   "execution_count": null,
   "metadata": {},
   "outputs": [],
   "source": [
    "estimator.fit()"
   ]
  },
  {
   "cell_type": "markdown",
   "metadata": {},
   "source": [
    "**Good job!**  \n",
    "You can now use pipemode datasets. With big datasets it'll reduce the training time, and the local disk needs.\n",
    "Before continuing to the next notebook, look at the pipemode job metrics from CloudWatch and TensorBoard."
   ]
  }
 ],
 "metadata": {
  "kernelspec": {
   "display_name": "conda_tensorflow_p36",
   "language": "python",
   "name": "conda_tensorflow_p36"
  },
  "language_info": {
   "codemirror_mode": {
    "name": "ipython",
    "version": 3
   },
   "file_extension": ".py",
   "mimetype": "text/x-python",
   "name": "python",
   "nbconvert_exporter": "python",
   "pygments_lexer": "ipython3",
   "version": "3.6.5"
  }
 },
 "nbformat": 4,
 "nbformat_minor": 2
}
